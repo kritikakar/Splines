{
 "cells": [
  {
   "cell_type": "markdown",
   "id": "db78b8ca",
   "metadata": {
    "deletable": false,
    "editable": false,
    "nbgrader": {
     "cell_type": "markdown",
     "checksum": "38030c0cd5cdd8f7f8ce71aabd985600",
     "grade": false,
     "grade_id": "cell-cfac08fc6ba1593e",
     "locked": true,
     "schema_version": 3,
     "solution": false,
     "task": false
    }
   },
   "source": [
    "Consider the function\n",
    "\n",
    "$$f(x) = \\sin(x),\\qquad \\qquad x\\in[-\\pi/2,\\pi/2] $$\n",
    "    \n",
    "* Define the Python function `f(x)` for $f(x)$ above.\n",
    "    \n",
    "* In numpy arrays named `xk` and `yk` sample $f(x)$ on the interval above with 10 evenly spaced points in $x$.\n",
    "    \n",
    "* Using `xk` and `yk` perform a cubic spline interpolation using the *natural spline* $S'' = 0$ boundary conditions. You may use `scipy.interpolate.CubicSpline`. Sample with 100 new evaluation points, again evenly spaced, on the same interval, and provide the new values in an array `ySpline`."
   ]
  },
  {
   "cell_type": "code",
   "execution_count": 3,
   "id": "6b27ef49",
   "metadata": {
    "ExecuteTime": {
     "end_time": "2023-03-05T20:16:44.772522Z",
     "start_time": "2023-03-05T20:16:44.235486Z"
    },
    "nbgrader": {
     "cell_type": "code",
     "checksum": "516d88de2ee05aceb31ca7fa505aa29b",
     "grade": false,
     "grade_id": "cell-73194c64699a29e2",
     "locked": false,
     "schema_version": 3,
     "solution": true,
     "task": false
    }
   },
   "outputs": [
    {
     "data": {
      "text/plain": [
       "array([-1.        , -0.99675118, -0.99339068, -0.9898068 , -0.98588788,\n",
       "       -0.98152223, -0.97659816, -0.97100398, -0.96462803, -0.9573586 ,\n",
       "       -0.94908403, -0.93969262, -0.92909922, -0.9173248 , -0.90441683,\n",
       "       -0.89042282, -0.87539024, -0.8593666 , -0.84239937, -0.82453605,\n",
       "       -0.80582413, -0.7863111 , -0.76604444, -0.74506643, -0.72339842,\n",
       "       -0.70105656, -0.67805699, -0.65441585, -0.63014929, -0.60527344,\n",
       "       -0.57980444, -0.55375844, -0.52715158, -0.5       , -0.47232258,\n",
       "       -0.44414918, -0.4155124 , -0.38644484, -0.35697908, -0.32714775,\n",
       "       -0.29698342, -0.2665187 , -0.23578619, -0.20481848, -0.17364818,\n",
       "       -0.1423076 , -0.11082793, -0.07924008, -0.04757495, -0.01586347,\n",
       "        0.01586347,  0.04757495,  0.07924008,  0.11082793,  0.1423076 ,\n",
       "        0.17364818,  0.20481848,  0.23578619,  0.2665187 ,  0.29698342,\n",
       "        0.32714775,  0.35697908,  0.38644484,  0.4155124 ,  0.44414918,\n",
       "        0.47232258,  0.5       ,  0.52715158,  0.55375844,  0.57980444,\n",
       "        0.60527344,  0.63014929,  0.65441585,  0.67805699,  0.70105656,\n",
       "        0.72339842,  0.74506643,  0.76604444,  0.7863111 ,  0.80582413,\n",
       "        0.82453605,  0.84239937,  0.8593666 ,  0.87539024,  0.89042282,\n",
       "        0.90441683,  0.9173248 ,  0.92909922,  0.93969262,  0.94908403,\n",
       "        0.9573586 ,  0.96462803,  0.97100398,  0.97659816,  0.98152223,\n",
       "        0.98588788,  0.9898068 ,  0.99339068,  0.99675118,  1.        ])"
      ]
     },
     "execution_count": 3,
     "metadata": {},
     "output_type": "execute_result"
    }
   ],
   "source": [
    "import numpy as np\n",
    "import matplotlib.pyplot as plt\n",
    "from scipy.interpolate import CubicSpline\n",
    "\n",
    "def f(x):\n",
    "    return(np.sin(x))\n",
    "\n",
    "f(60)\n",
    "\n",
    "xk = np.linspace(-(np.pi)/2,(np.pi)/2,10)\n",
    "\n",
    "yk = f(xk)\n",
    "\n",
    "spline = CubicSpline(xk, yk, bc_type='natural')\n",
    "\n",
    "spline(xk)\n",
    "\n",
    "xnew = np.linspace(-(np.pi)/2,(np.pi)/2,100)\n",
    "\n",
    "ySpline = spline(xnew)\n",
    "\n",
    "ySpline\n"
   ]
  },
  {
   "cell_type": "markdown",
   "id": "c360e650",
   "metadata": {
    "deletable": false,
    "editable": false,
    "nbgrader": {
     "cell_type": "markdown",
     "checksum": "18826a98d36f4159bc951672730fbd5a",
     "grade": false,
     "grade_id": "cell-e80a6fb579d3f222",
     "locked": true,
     "schema_version": 3,
     "solution": false,
     "task": false
    }
   },
   "source": [
    "Compute the maximum absolute error between your `ySpline` data and the exact function `f(x)`, store in a Python variable `maxError1` and print it (make sure your error is positive). "
   ]
  },
  {
   "cell_type": "code",
   "execution_count": 4,
   "id": "1f444f58",
   "metadata": {
    "ExecuteTime": {
     "end_time": "2023-03-05T20:16:44.796185Z",
     "start_time": "2023-03-05T20:16:44.779884Z"
    },
    "nbgrader": {
     "cell_type": "code",
     "checksum": "88cc39931e3b0807b40faf1793b88e0b",
     "grade": false,
     "grade_id": "cell-02a3d9842cfc29a5",
     "locked": false,
     "schema_version": 3,
     "solution": true,
     "task": false
    }
   },
   "outputs": [
    {
     "name": "stdout",
     "output_type": "stream",
     "text": [
      "0.006066928880171241\n"
     ]
    }
   ],
   "source": [
    "error_matrix = np.abs(ySpline-f(xnew))\n",
    "\n",
    "error_matrix\n",
    "\n",
    "maxError1 = np.max(error_matrix)\n",
    "\n",
    "print(maxError1)"
   ]
  },
  {
   "cell_type": "code",
   "execution_count": 5,
   "id": "931d4e9b",
   "metadata": {
    "ExecuteTime": {
     "end_time": "2023-03-05T20:16:54.648235Z",
     "start_time": "2023-03-05T20:16:54.641838Z"
    },
    "deletable": false,
    "editable": false,
    "nbgrader": {
     "cell_type": "code",
     "checksum": "1bea92d911cfa3d503b8745a908b28f2",
     "grade": true,
     "grade_id": "cell-8a2cfb2ab5915d65",
     "locked": true,
     "points": 1,
     "schema_version": 3,
     "solution": false,
     "task": false
    }
   },
   "outputs": [
    {
     "name": "stdout",
     "output_type": "stream",
     "text": [
      "0.006066928880171241\n"
     ]
    }
   ],
   "source": [
    "# Don't edit this cell\n",
    "if not \"maxError1\" in globals():\n",
    "    raise NotImplementedError(\"maxError1 has not been defined in Question 2\")\n",
    "else:\n",
    "    print(maxError1)"
   ]
  },
  {
   "cell_type": "markdown",
   "id": "b54996dd",
   "metadata": {
    "deletable": false,
    "editable": false,
    "nbgrader": {
     "cell_type": "markdown",
     "checksum": "593b7f7ee71da472b7d6f2e8665b9468",
     "grade": false,
     "grade_id": "cell-c359ff40452bceb1",
     "locked": true,
     "schema_version": 3,
     "solution": false,
     "task": false
    }
   },
   "source": [
    "Change the cubic spline boundary condition to something more appropriate for this interval and function, obtain a new maximum error in a variable `maxError2` and print it. "
   ]
  },
  {
   "cell_type": "code",
   "execution_count": 6,
   "id": "abd4ec44",
   "metadata": {
    "ExecuteTime": {
     "end_time": "2023-03-05T20:16:44.828849Z",
     "start_time": "2023-03-05T20:16:44.813282Z"
    },
    "nbgrader": {
     "cell_type": "code",
     "checksum": "cbb63811445eb9301ef04dd92bde70eb",
     "grade": false,
     "grade_id": "cell-a6643bd1b7db1a83",
     "locked": false,
     "schema_version": 3,
     "solution": true,
     "task": false
    }
   },
   "outputs": [
    {
     "name": "stdout",
     "output_type": "stream",
     "text": [
      "3.8703044756727145e-05\n"
     ]
    }
   ],
   "source": [
    "spline2 = CubicSpline(xk, yk, bc_type='clamped')\n",
    "\n",
    "spline2(xnew)\n",
    "\n",
    "ySpline2 = spline2(xnew)\n",
    "\n",
    "error_matrix2 = np.abs(ySpline2-f(xnew))\n",
    "\n",
    "error_matrix2\n",
    "\n",
    "maxError2 = np.max(error_matrix2)\n",
    "\n",
    "print(maxError2)\n"
   ]
  },
  {
   "cell_type": "markdown",
   "id": "0b67260f",
   "metadata": {
    "deletable": false,
    "editable": false,
    "nbgrader": {
     "cell_type": "markdown",
     "checksum": "cb707b7f97fc79217b926545b70f1d18",
     "grade": false,
     "grade_id": "cell-bdfb857195d86c59",
     "locked": true,
     "schema_version": 3,
     "solution": false,
     "task": false
    }
   },
   "source": [
    "Suggest a different interval $x\\in[a,b]$, of the same length (i.e. $b-a=\\pi$), with reasoning in the comment cell, for which the error will reduce when employing a *natural* spline with the same `f`. Resample `f` on this new interval, again with 10 evenly spaced points, compute the spline with natural boundary conditions, obtain the error and store it in the variable `maxError3`."
   ]
  },
  {
   "cell_type": "code",
   "execution_count": 7,
   "id": "50607569",
   "metadata": {
    "ExecuteTime": {
     "end_time": "2023-03-05T20:16:44.865261Z",
     "start_time": "2023-03-05T20:16:44.849120Z"
    },
    "nbgrader": {
     "cell_type": "code",
     "checksum": "0aa707bb2b519243a68c406eb7178e2b",
     "grade": false,
     "grade_id": "cell-d1ef9f48b8414903",
     "locked": false,
     "schema_version": 3,
     "solution": true,
     "task": false
    }
   },
   "outputs": [
    {
     "name": "stdout",
     "output_type": "stream",
     "text": [
      "3.920701404136473e-05\n"
     ]
    }
   ],
   "source": [
    "xk3 = np.linspace(0,(np.pi),10)\n",
    "\n",
    "yk3 = f(xk3)\n",
    "\n",
    "spline3 = CubicSpline(xk3, yk3, bc_type='natural')\n",
    "\n",
    "spline3(xk3)\n",
    "\n",
    "xnew3 = np.linspace(0,(np.pi),100)\n",
    "\n",
    "ySpline3 = spline3(xnew3)\n",
    "\n",
    "error_matrix3 = np.abs(ySpline3-f(xnew3))\n",
    "\n",
    "maxError3 = np.max(error_matrix3)\n",
    "\n",
    "print(maxError3)"
   ]
  },
  {
   "cell_type": "markdown",
   "id": "65f8d21f",
   "metadata": {
    "nbgrader": {
     "cell_type": "markdown",
     "checksum": "819bb946874eaadc600f9a7fe530b8fd",
     "grade": true,
     "grade_id": "cell-ef87b8ddfa3bc680",
     "locked": false,
     "points": 1,
     "schema_version": 3,
     "solution": true,
     "task": false
    }
   },
   "source": [
    "The natural spline implies that the second derivative of the end points of the interval is zero. The second derivative of sin(x) is -sin(x), which is zero for $x\\in[0,\\pi]$. This interval is the same length as before."
   ]
  }
 ],
 "metadata": {
  "kernelspec": {
   "display_name": "Python 3 (ipykernel)",
   "language": "python",
   "name": "python3"
  },
  "language_info": {
   "codemirror_mode": {
    "name": "ipython",
    "version": 3
   },
   "file_extension": ".py",
   "mimetype": "text/x-python",
   "name": "python",
   "nbconvert_exporter": "python",
   "pygments_lexer": "ipython3",
   "version": "3.11.8"
  },
  "toc": {
   "base_numbering": 1,
   "nav_menu": {},
   "number_sections": false,
   "sideBar": true,
   "skip_h1_title": false,
   "title_cell": "Table of Contents",
   "title_sidebar": "Contents",
   "toc_cell": false,
   "toc_position": {},
   "toc_section_display": true,
   "toc_window_display": false
  },
  "varInspector": {
   "cols": {
    "lenName": 16,
    "lenType": 16,
    "lenVar": 40
   },
   "kernels_config": {
    "python": {
     "delete_cmd_postfix": "",
     "delete_cmd_prefix": "del ",
     "library": "var_list.py",
     "varRefreshCmd": "print(var_dic_list())"
    },
    "r": {
     "delete_cmd_postfix": ") ",
     "delete_cmd_prefix": "rm(",
     "library": "var_list.r",
     "varRefreshCmd": "cat(var_dic_list()) "
    }
   },
   "types_to_exclude": [
    "module",
    "function",
    "builtin_function_or_method",
    "instance",
    "_Feature"
   ],
   "window_display": false
  }
 },
 "nbformat": 4,
 "nbformat_minor": 5
}
